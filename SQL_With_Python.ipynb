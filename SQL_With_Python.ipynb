{
 "cells": [
  {
   "cell_type": "markdown",
   "metadata": {},
   "source": [
    "# SQL with Python\n"
   ]
  },
  {
   "cell_type": "markdown",
   "metadata": {},
   "source": [
    "SQL is the fundemental skill for many data science jobs. Most of the databases which support SQL are server/client based like MySQL, Postgres, SQL Server and etc. Server/client based database systems are better for more complex applications, they provide better concurrency and security measures. But on the other hand, they come with the overhead of setting up and maintaining the server and they all need a fast and reliable internet connection to interact with the server. With cloud technologies like Amazon AWS and Microsoft Azure the maintenance for the server is not an issue anymore. However, to learn SQL there should be a better and easier way. SQLite is a serverless and simple database system which supports SQL. It doesn't need fancy setup or maintenance. The whole database is stored in your local disk and everyone who has the access to the database file can open and even write into the databse. This is one of the reasons you should pay special attention for setting up file permissions to limit the access to your database. There are encryption extensions that can be used with SQLite to tighten the security measures. The purpose of this article however, is to practice basic SQL queries. Some examples are from the SQL tutorial from [KhanAcademy](https://www.khanacademy.org).\n",
    "\n",
    "[SQLite](https://docs.python.org/2/library/sqlite3.html) is also part of Python standard modules. Any database that python can connect to, follows the DB-API guidlines specified in [PEP 0249](https://www.python.org/dev/peps/pep-0249/). This ensures a uniform set of commands for connecting to any database from Python (very cool!). This made developing high level tools like [SQLAlchemy](http://www.sqlalchemy.org/) easier resulting in a more intuitive way of working with SQL databases. "
   ]
  },
  {
   "cell_type": "markdown",
   "metadata": {},
   "source": [
    "## Create a database"
   ]
  },
  {
   "cell_type": "markdown",
   "metadata": {},
   "source": [
    "One of the specification is PEP 249 is the connection object. Every database adaptor should provide a connection object which will be used to interact with the database. This can be a server based database in which case a URL and username and password will be required to create the object. For example MySQL connector is called like this:"
   ]
  },
  {
   "cell_type": "raw",
   "metadata": {
    "collapsed": false
   },
   "source": [
    "import mysql.connector\n",
    "\n",
    "con = mysql.connector.connect(user='SJ', password='HairyChicken',\n",
    "                              host='127.0.0.1',\n",
    "                              database='eggs')\n",
    "con.close()"
   ]
  },
  {
   "cell_type": "markdown",
   "metadata": {},
   "source": [
    "For SQLite it can be the link to the local database file or if you want to create a new database the name of the new file."
   ]
  },
  {
   "cell_type": "code",
   "execution_count": 1,
   "metadata": {
    "collapsed": false
   },
   "outputs": [
    {
     "name": "stdout",
     "output_type": "stream",
     "text": [
      "[(0, u'Bananas', 4), (1, u'Peanut Butter', 1), (2, u'Dark Chocolate', 2)]\n"
     ]
    }
   ],
   "source": [
    "import sqlite3\n",
    "conn = sqlite3.connect('example.db')\n",
    "cur = conn.cursor()\n",
    "\n",
    "#Drop the table if already exists\n",
    "cur.execute(\"DROP TABLE IF EXISTS groceries\")\n",
    "\n",
    "# Create table\n",
    "cur.execute('''CREATE TABLE groceries\n",
    "                (id INT PRIMARY KEY, name TEXT, quantity INT)''')\n",
    "\n",
    "# Insert rows of data\n",
    "cur.execute(\"INSERT INTO groceries VALUES (0, 'Bananas', 4)\")\n",
    "cur.execute(\"INSERT INTO groceries VALUES (1, 'Peanut Butter', 1)\")\n",
    "cur.execute(\"INSERT INTO groceries VALUES (2, 'Dark Chocolate', 2)\")\n",
    "cur.execute(\"SELECT * from groceries\")\n",
    "print cur.fetchall()\n",
    "# Save (commit) the changes\n",
    "conn.commit()\n",
    "\n",
    "# We can also close the connection if we are done with it.\n",
    "# Just be sure any changes have been committed or they will be lost.\n",
    "conn.close()\n"
   ]
  },
  {
   "cell_type": "markdown",
   "metadata": {},
   "source": [
    "Cool! we created a table in our database and commited the results back to the database. There is a feature in most SQL databases to automatically assign a unique id number for the records when we insert them into the database. When we specify a column as INT PRIMARY KEY, this is autoincrement in SQLite. So we can skip entering all the ids for every new item we insert into the table. "
   ]
  },
  {
   "cell_type": "code",
   "execution_count": 12,
   "metadata": {
    "collapsed": false,
    "scrolled": false
   },
   "outputs": [
    {
     "name": "stdout",
     "output_type": "stream",
     "text": [
      "(1, u'Bananas', 4)\n",
      "(2, u'Peanut Butter', 1)\n",
      "(3, u'Dark Chocolate', 2)\n"
     ]
    }
   ],
   "source": [
    "import sqlite3\n",
    "conn = sqlite3.connect('example.db')\n",
    "cur = conn.cursor()\n",
    "\n",
    "#Drop the table if already exists\n",
    "cur.execute(\"DROP TABLE IF EXISTs groceries\")\n",
    "\n",
    "# Create table\n",
    "cur.execute('''CREATE TABLE groceries\n",
    "                (id INTEGER PRIMARY KEY, name TEXT, quantity INT)''')\n",
    "\n",
    "# Insert rows of data\n",
    "cur.execute(\"INSERT INTO groceries (name, quantity) VALUES ('Bananas', 4)\")\n",
    "cur.execute(\"INSERT INTO groceries (name, quantity) VALUES ('Peanut Butter', 1)\")\n",
    "cur.execute(\"INSERT INTO groceries (name, quantity) VALUES ('Dark Chocolate', 2)\")\n",
    "cur.execute(\"SELECT * from groceries\")\n",
    "for row in cur.fetchall():\n",
    "    print row\n",
    "# Save (commit) the changes\n",
    "conn.commit()\n",
    "\n",
    "# We can also close the connection if we are done with it.\n",
    "# Just be sure any changes have been committed or they will be lost.\n",
    "conn.close()\n"
   ]
  },
  {
   "cell_type": "markdown",
   "metadata": {},
   "source": [
    "* <strong>Notice</strong>: SQLite offers dynamic datatype assignment. It means depending on what values you put in that columns it can assign the right type. For example you may use INT, INT8 or INTEGER as the type for a column and they all are considered INTEGER under the hood. Number of bytes can be different depending on the size of the numbers. One exception to this is the autoincrement column. You have to specify it accuratly as INTEGER if it is going to be your PRIMARY KEY. That's why we entered INTEGER in the signature above. We didn't have to do this previously since overthere we provided the ids as integers when we inserted the new items into the table. You can read about affinity in SQLite [here](http://www.tutorialspoint.com/sqlite/sqlite_data_types.htm)."
   ]
  },
  {
   "cell_type": "markdown",
   "metadata": {},
   "source": [
    "Python connector provides a better way to run multiple queries. We are going to do the same example with a different more convenient syntax:"
   ]
  },
  {
   "cell_type": "code",
   "execution_count": 17,
   "metadata": {
    "collapsed": false
   },
   "outputs": [
    {
     "name": "stdout",
     "output_type": "stream",
     "text": [
      "(1, u'Bananas', 4)\n",
      "(2, u'Peanut Butter', 1)\n",
      "(3, u'Dark Chocolate', 2)\n"
     ]
    }
   ],
   "source": [
    "import sqlite3\n",
    "conn = sqlite3.connect('example.db')\n",
    "cur = conn.cursor()\n",
    "\n",
    "#Drop the table if already exists\n",
    "cur.execute(\"DROP TABLE IF EXISTs groceries\")\n",
    "\n",
    "# Create table\n",
    "cur.execute('''CREATE TABLE groceries\n",
    "                (id INTEGER PRIMARY KEY, name TEXT, quantity INT)''')\n",
    "\n",
    "# Insert rows of data\n",
    "data = (('Bananas', 4),\n",
    "       ('Peanut Butter', 1),\n",
    "       ('Dark Chocolate', 2))\n",
    "\n",
    "cur.executemany(\"INSERT INTO groceries (name, quantity) VALUES (?, ?)\", data)\n",
    "\n",
    "# select everything\n",
    "cur.execute(\"SELECT * from groceries\")\n",
    "for row in cur.fetchall():\n",
    "    print row\n",
    "    \n",
    "# Save (commit) the changes\n",
    "conn.commit()\n",
    "\n",
    "# We can also close the connection if we are done with it.\n",
    "# Just be sure any changes have been committed or they will be lost.\n",
    "conn.close()\n"
   ]
  },
  {
   "cell_type": "markdown",
   "metadata": {},
   "source": [
    "You can even use excute methods on the connection object without creating a cursor object. A cursor object will be created implicity. This makes it one step easier to execute queries:"
   ]
  },
  {
   "cell_type": "code",
   "execution_count": 19,
   "metadata": {
    "collapsed": false
   },
   "outputs": [
    {
     "name": "stdout",
     "output_type": "stream",
     "text": [
      "(1, u'Bananas', 4)\n",
      "(2, u'Peanut Butter', 1)\n",
      "(3, u'Dark Chocolate', 2)\n"
     ]
    }
   ],
   "source": [
    "import sqlite3\n",
    "conn = sqlite3.connect('example.db')\n",
    "\n",
    "#Drop the table if already exists\n",
    "conn.execute(\"DROP TABLE IF EXISTs groceries\")\n",
    "\n",
    "# Create table\n",
    "conn.execute('''CREATE TABLE groceries\n",
    "                (id INTEGER PRIMARY KEY, name TEXT, quantity INT)''')\n",
    "\n",
    "# Insert rows of data\n",
    "data = (('Bananas', 4),\n",
    "       ('Peanut Butter', 1),\n",
    "       ('Dark Chocolate', 2))\n",
    "\n",
    "conn.executemany(\"INSERT INTO groceries (name, quantity) VALUES (?, ?)\", data)\n",
    "\n",
    "# select everything\n",
    "for row in conn.execute(\"SELECT * from groceries\"):\n",
    "    print row\n",
    "    \n",
    "conn.commit()\n",
    "conn.close()\n"
   ]
  },
  {
   "cell_type": "markdown",
   "metadata": {},
   "source": [
    "We can use \":memory:\" to create a database in memory. What if we don't create a unique id for items in our table. It will be generated for us (very convenient). Use ROWID column name to see the ids for each row."
   ]
  },
  {
   "cell_type": "code",
   "execution_count": 27,
   "metadata": {
    "collapsed": false
   },
   "outputs": [
    {
     "name": "stdout",
     "output_type": "stream",
     "text": [
      "(1, u'2006-03-28', u'BUY', u'IBM', 1000.0, 45.0)\n",
      "(2, u'2006-04-05', u'BUY', u'MSFT', 1000.0, 72.0)\n",
      "(3, u'2006-04-06', u'SELL', u'IBM', 500.0, 53.0)\n",
      "(4, u'2006-04-06', u'SELL', u'GOOG', 510.0, 93.0)\n"
     ]
    }
   ],
   "source": [
    "import sqlite3\n",
    "conn = sqlite3.connect(\":memory:\")\n",
    "\n",
    "conn.execute(\"CREATE TABLE stocks (date TEXT, trans TEXT, symbol TEXT, qty REAL, price REAL)\")\n",
    "\n",
    "# Larger example that inserts many records at a time\n",
    "purchases = [('2006-03-28', 'BUY', 'IBM', 1000, 45.00),\n",
    "             ('2006-04-05', 'BUY', 'MSFT', 1000, 72.00),\n",
    "             ('2006-04-06', 'SELL', 'IBM', 500, 53.00),\n",
    "             ('2006-04-06', 'SELL', 'GOOG', 510, 93.00),\n",
    "            ]\n",
    "conn.executemany('INSERT INTO stocks VALUES (?,?,?,?,?)', purchases)\n",
    "for row in conn.execute(\"SELECT ROWID, * from stocks\"):\n",
    "    print row\n",
    "    \n",
    "conn.commit()\n",
    "conn.close()"
   ]
  },
  {
   "cell_type": "markdown",
   "metadata": {},
   "source": [
    "We can use WHERE and ORDER BY on columns to get the results we want."
   ]
  },
  {
   "cell_type": "code",
   "execution_count": 2,
   "metadata": {
    "collapsed": false
   },
   "outputs": [
    {
     "name": "stdout",
     "output_type": "stream",
     "text": [
      "(2, u'Peanut Butter', 1, 2)\n",
      "(3, u'Dark Chocolate Bars', 2, 2)\n",
      "(5, u'Cherries', 6, 2)\n",
      "(6, u'Chocolate syrup', 1, 4)\n",
      "(1, u'Bananas', 4, 7)\n",
      "(4, u'Ice cream', 1, 12)\n",
      "==========================\n",
      "(1, u'Bananas', 4, 7)\n",
      "(4, u'Ice cream', 1, 12)\n"
     ]
    }
   ],
   "source": [
    "import sqlite3\n",
    "conn = sqlite3.connect('example.db')\n",
    "\n",
    "#Drop the table if already exists\n",
    "conn.executescript(\"\"\"DROP TABLE IF EXISTS groceries;\n",
    "CREATE TABLE groceries (id INTEGER PRIMARY KEY, name TEXT, quantity INTEGER, aisle INTEGER);\n",
    "INSERT INTO groceries (name, quantity, aisle) VALUES (\"Bananas\", 4, 7);\n",
    "INSERT INTO groceries (name, quantity, aisle) VALUES(\"Peanut Butter\", 1, 2);\n",
    "INSERT INTO groceries (name, quantity, aisle) VALUES(\"Dark Chocolate Bars\", 2, 2);\n",
    "INSERT INTO groceries (name, quantity, aisle) VALUES(\"Ice cream\", 1, 12);\n",
    "INSERT INTO groceries (name, quantity, aisle) VALUES(\"Cherries\", 6, 2);\n",
    "INSERT INTO groceries (name, quantity, aisle) VALUES(\"Chocolate syrup\", 1, 4);\n",
    "\"\"\")\n",
    "\n",
    "# select everything\n",
    "for row in conn.execute(\"SELECT * FROM groceries ORDER BY aisle;\"):\n",
    "    print row\n",
    "\n",
    "print \"==========================\"\n",
    "for row in conn.execute(\"SELECT * FROM groceries WHERE aisle >= 6 ORDER BY groceries.aisle;\"):\n",
    "    print row\n",
    "    \n",
    "conn.commit()\n",
    "conn.close()\n",
    "\n"
   ]
  },
  {
   "cell_type": "markdown",
   "metadata": {},
   "source": [
    "Aggregating functions can be applied when selecting a column. Filtering can be done using IN and LIKE which work with WHERE clause. With LIKE we can use the following wildcards:\n",
    "\n",
    "* The percent sign (%)\n",
    "\n",
    "* The underscore (_)\n",
    "\n",
    "The percent sign represents zero, one, or multiple characters. The underscore represents a single number or character. "
   ]
  },
  {
   "cell_type": "code",
   "execution_count": 3,
   "metadata": {
    "collapsed": false
   },
   "outputs": [
    {
     "name": "stdout",
     "output_type": "stream",
     "text": [
      "(2, 9)\n",
      "(4, 23)\n",
      "(5, 2)\n",
      "(7, 15)\n",
      "(12, 1)\n",
      "\n",
      "Always select by the index you grouped by on otherwise \n",
      "SQL will select the first record in that category without telling you!=====================\n",
      "\n",
      "(u'Cherries', 2.0, 6)\n",
      "(u'Chocolate shake', 4.0, 23)\n",
      "(u'Chocolate smoothie', 5.0, 2)\n",
      "(u'Chocolate syrup', 4.0, None)\n"
     ]
    }
   ],
   "source": [
    "import sqlite3\n",
    "conn = sqlite3.connect('example.db')\n",
    "\n",
    "#Drop the table if already exists\n",
    "conn.executescript(\"\"\"DROP TABLE IF EXISTS groceries;\n",
    "CREATE TABLE groceries (id INTEGER PRIMARY KEY, name TEXT, quantity INTEGER, aisle INTEGER);\n",
    "INSERT INTO groceries (name, quantity, aisle) VALUES (\"Bananas\", 14, 7);\n",
    "INSERT INTO groceries (name, quantity, aisle) VALUES(\"Peanut Butter\", 1, 2);\n",
    "INSERT INTO groceries (name, quantity, aisle) VALUES(\"Dark Chocolate Bars\", 2, 2);\n",
    "INSERT INTO groceries (name, quantity, aisle) VALUES(\"Ice cream\", 1, 12);\n",
    "INSERT INTO groceries (name, quantity, aisle) VALUES(\"Ice cream\", 1, 7);\n",
    "INSERT INTO groceries (name, quantity, aisle) VALUES(\"Cherries\", 6, 2);\n",
    "INSERT INTO groceries (name, quantity, aisle) VALUES(\"Chocolate syrup\", NULL, 4);\n",
    "INSERT INTO groceries (name, quantity, aisle) VALUES(\"Chocolate shake\", 23, 4);\n",
    "INSERT INTO groceries (name, quantity, aisle) VALUES(\"Chocolate smoothie\", 2, 5);\n",
    "\"\"\")\n",
    "for row in conn.execute(\"SELECT aisle, SUM(quantity) FROM groceries GROUP BY aisle\"):\n",
    "    print row\n",
    "   \n",
    "print \"\"\"\n",
    "Always select by the index you grouped by on otherwise \n",
    "SQL will select the first record in that category without telling you!=====================\n",
    "\"\"\"\n",
    "for row in conn.execute(\"SELECT name, AVG(aisle), SUM(quantity) FROM groceries WHERE name LIKE 'Chocolate%' OR quantity=6 GROUP BY name\"):\n",
    "    print row\n",
    "    \n",
    "conn.commit()\n",
    "conn.close()"
   ]
  },
  {
   "cell_type": "markdown",
   "metadata": {},
   "source": [
    "You can use HAVING to filter the results after grouping and aggregating unlike WHERE that applies before grouping."
   ]
  },
  {
   "cell_type": "code",
   "execution_count": 4,
   "metadata": {
    "collapsed": false
   },
   "outputs": [
    {
     "name": "stdout",
     "output_type": "stream",
     "text": [
      "(u'Bananas', 7.0, 14)\n",
      "(u'Cherries', 2.0, 6)\n",
      "(u'Chocolate shake', 4.0, 23)\n",
      "(u'Chocolate smoothie', 5.0, 2)\n",
      "(u'Chocolate syrup', 4.0, None)\n",
      "(u'Dark Chocolate Bars', 2.0, 2)\n",
      "(u'Ice cream', 9.5, 2)\n",
      "(u'Peanut Butter', 2.0, 1)\n",
      "========= With HAVING ==============\n",
      "(u'Bananas', 7.0, 14)\n",
      "(u'Cherries', 2.0, 6)\n",
      "(u'Chocolate shake', 4.0, 23)\n",
      "========= With HAVING ==============\n",
      "(u'Ice cream', 9.5, 2)\n"
     ]
    }
   ],
   "source": [
    "import sqlite3\n",
    "conn = sqlite3.connect('example.db')\n",
    "\n",
    "#Drop the table if already exists\n",
    "conn.executescript(\"\"\"DROP TABLE IF EXISTS groceries;\n",
    "CREATE TABLE groceries (id INTEGER PRIMARY KEY, name TEXT, quantity INTEGER, aisle INTEGER);\n",
    "INSERT INTO groceries (name, quantity, aisle) VALUES (\"Bananas\", 14, 7);\n",
    "INSERT INTO groceries (name, quantity, aisle) VALUES(\"Peanut Butter\", 1, 2);\n",
    "INSERT INTO groceries (name, quantity, aisle) VALUES(\"Dark Chocolate Bars\", 2, 2);\n",
    "INSERT INTO groceries (name, quantity, aisle) VALUES(\"Ice cream\", 1, 12);\n",
    "INSERT INTO groceries (name, quantity, aisle) VALUES(\"Ice cream\", 1, 7);\n",
    "INSERT INTO groceries (name, quantity, aisle) VALUES(\"Cherries\", 6, 2);\n",
    "INSERT INTO groceries (name, quantity, aisle) VALUES(\"Chocolate syrup\", NULL, 4);\n",
    "INSERT INTO groceries (name, quantity, aisle) VALUES(\"Chocolate shake\", 23, 4);\n",
    "INSERT INTO groceries (name, quantity, aisle) VALUES(\"Chocolate smoothie\", 2, 5);\n",
    "\"\"\")\n",
    "\n",
    "for row in conn.execute(\"SELECT name, AVG(aisle), SUM(quantity) as total_sum FROM groceries GROUP BY name\"):\n",
    "    print row\n",
    "    \n",
    "print \"========= With HAVING ==============\"\n",
    "\n",
    "for row in conn.execute(\"SELECT name, AVG(aisle), SUM(quantity) as total_sum FROM groceries GROUP BY name HAVING total_sum > 5 \"):\n",
    "    print row\n",
    "    \n",
    "print \"========= With HAVING ==============\"\n",
    "\n",
    "for row in conn.execute(\"SELECT name, AVG(aisle), SUM(quantity) FROM groceries GROUP BY name HAVING COUNT(name) > 1 \"):\n",
    "    print row\n",
    "    \n",
    "conn.commit()\n",
    "conn.close()"
   ]
  },
  {
   "cell_type": "markdown",
   "metadata": {},
   "source": [
    "Using CASE statement we can add another column describing some criteria about our columns"
   ]
  },
  {
   "cell_type": "code",
   "execution_count": 50,
   "metadata": {
    "collapsed": false
   },
   "outputs": [
    {
     "name": "stdout",
     "output_type": "stream",
     "text": [
      "(1, u'above target')\n",
      "(4, u'below target')\n",
      "(4, u'within target')\n",
      "=================\n",
      "(80,)\n",
      "(85,)\n",
      "(90,)\n",
      "(105,)\n",
      "(110,)\n",
      "(120,)\n",
      "(190,)\n"
     ]
    }
   ],
   "source": [
    "import sqlite3\n",
    "conn = sqlite3.connect('example.db')\n",
    "\n",
    "#Drop the table if already exists\n",
    "conn.executescript(\"\"\"DROP TABLE IF EXISTS exercise_logs;\n",
    "CREATE TABLE exercise_logs\n",
    "    (id INTEGER PRIMARY KEY AUTOINCREMENT,\n",
    "    type TEXT,\n",
    "    minutes INTEGER, \n",
    "    calories INTEGER,\n",
    "    heart_rate INTEGER);\n",
    "\n",
    "INSERT INTO exercise_logs(type, minutes, calories, heart_rate) VALUES (\"biking\", 30, 100, 110);\n",
    "INSERT INTO exercise_logs(type, minutes, calories, heart_rate) VALUES (\"biking\", 10, 30, 105);\n",
    "INSERT INTO exercise_logs(type, minutes, calories, heart_rate) VALUES (\"dancing\", 15, 200, 120);\n",
    "INSERT INTO exercise_logs(type, minutes, calories, heart_rate) VALUES (\"sex\", 15, 210, 190);\n",
    "INSERT INTO exercise_logs(type, minutes, calories, heart_rate) VALUES (\"dancing\", 15, 165, 120);\n",
    "INSERT INTO exercise_logs(type, minutes, calories, heart_rate) VALUES (\"tree climbing\", 30, 70, 90);\n",
    "INSERT INTO exercise_logs(type, minutes, calories, heart_rate) VALUES (\"tree climbing\", 25, 72, 80);\n",
    "INSERT INTO exercise_logs(type, minutes, calories, heart_rate) VALUES (\"rowing\", 30, 70, 90);\n",
    "INSERT INTO exercise_logs(type, minutes, calories, heart_rate) VALUES (\"hiking\", 60, 80, 85);\n",
    "\"\"\")\n",
    "\n",
    "for row in conn.execute(\"\"\"SELECT COUNT(*),\n",
    "                                CASE \n",
    "                                    WHEN heart_rate > 220-30 THEN \"above max\"\n",
    "                                    WHEN heart_rate > ROUND(0.90 * (220-30)) THEN \"above target\"\n",
    "                                    WHEN heart_rate > ROUND(0.50 * (220-30)) THEN \"within target\"\n",
    "                                    ELSE \"below target\"\n",
    "                                END as \"hr_zone\"\n",
    "                            FROM exercise_logs\n",
    "                            GROUP BY hr_zone;\n",
    "                        \"\"\"):\n",
    "    print row\n",
    "    \n",
    "print \"=================\"\n",
    "    \n",
    "for row in conn.execute(\"\"\"SELECT DISTINCT heart_rate FROM exercise_logs                            \n",
    "                        \"\"\"):\n",
    "    print row\n",
    "    \n",
    "\n",
    "    \n",
    "conn.commit()\n",
    "conn.close()\n",
    "\n"
   ]
  },
  {
   "cell_type": "code",
   "execution_count": 12,
   "metadata": {
    "collapsed": false
   },
   "outputs": [
    {
     "name": "stdout",
     "output_type": "stream",
     "text": [
      "(1, u'Peter', u'Rabbit', u'peter@rabbit.com', u'555-6666', u'2002-06-24')\n",
      "(2, u'Alice', u'Wonderland', u'alice@wonderland.com', u'555-4444', u'2002-07-04')\n",
      "=================\n",
      "(1, 1, u'Nutrition', 95)\n",
      "(2, 2, u'Nutrition', 92)\n",
      "(3, 1, u'Chemistry', 85)\n",
      "(4, 2, u'Chemistry', 95)\n",
      "===============\n",
      "(1, 1, u'Nutrition', 95, 1, u'Peter', u'Rabbit', u'peter@rabbit.com', u'555-6666', u'2002-06-24')\n",
      "(1, 1, u'Nutrition', 95, 2, u'Alice', u'Wonderland', u'alice@wonderland.com', u'555-4444', u'2002-07-04')\n",
      "(2, 2, u'Nutrition', 92, 1, u'Peter', u'Rabbit', u'peter@rabbit.com', u'555-6666', u'2002-06-24')\n",
      "(2, 2, u'Nutrition', 92, 2, u'Alice', u'Wonderland', u'alice@wonderland.com', u'555-4444', u'2002-07-04')\n",
      "(3, 1, u'Chemistry', 85, 1, u'Peter', u'Rabbit', u'peter@rabbit.com', u'555-6666', u'2002-06-24')\n",
      "(3, 1, u'Chemistry', 85, 2, u'Alice', u'Wonderland', u'alice@wonderland.com', u'555-4444', u'2002-07-04')\n",
      "(4, 2, u'Chemistry', 95, 1, u'Peter', u'Rabbit', u'peter@rabbit.com', u'555-6666', u'2002-06-24')\n",
      "(4, 2, u'Chemistry', 95, 2, u'Alice', u'Wonderland', u'alice@wonderland.com', u'555-4444', u'2002-07-04')\n",
      "===============\n",
      "(u'Peter', u'Rabbit', 95)\n",
      "(u'Alice', u'Wonderland', 92)\n",
      "(u'Peter', u'Rabbit', 85)\n",
      "(u'Alice', u'Wonderland', 95)\n",
      "===============\n",
      "(u'Peter', u'Rabbit', 95)\n",
      "(u'Alice', u'Wonderland', 92)\n",
      "(u'Peter', u'Rabbit', 85)\n",
      "(u'Alice', u'Wonderland', 95)\n"
     ]
    }
   ],
   "source": [
    "import sqlite3\n",
    "conn = sqlite3.connect('example.db')\n",
    "\n",
    "#Drop the table if already exists\n",
    "conn.execute(\"DROP TABLE IF EXISTS students;\")\n",
    "conn.execute(\"DROP TABLE IF EXISTS student_grades;\")\n",
    "conn.executescript(\"\"\"CREATE TABLE students (id INTEGER PRIMARY KEY,\n",
    "    first_name TEXT,\n",
    "    last_name TEXT,\n",
    "    email TEXT,\n",
    "    phone TEXT,\n",
    "    birthdate TEXT);\n",
    "\n",
    "INSERT INTO students (first_name, last_name, email, phone, birthdate)\n",
    "    VALUES (\"Peter\", \"Rabbit\", \"peter@rabbit.com\", \"555-6666\", \"2002-06-24\");\n",
    "INSERT INTO students (first_name, last_name, email, phone, birthdate)\n",
    "    VALUES (\"Alice\", \"Wonderland\", \"alice@wonderland.com\", \"555-4444\", \"2002-07-04\");\n",
    "    \n",
    "CREATE TABLE student_grades (id INTEGER PRIMARY KEY,\n",
    "    student_id INTEGER,\n",
    "    test TEXT,\n",
    "    grade INTEGER);\n",
    "\n",
    "INSERT INTO student_grades (student_id, test, grade)\n",
    "    VALUES (1, \"Nutrition\", 95);\n",
    "INSERT INTO student_grades (student_id, test, grade)\n",
    "    VALUES (2, \"Nutrition\", 92);\n",
    "INSERT INTO student_grades (student_id, test, grade)\n",
    "    VALUES (1, \"Chemistry\", 85);\n",
    "INSERT INTO student_grades (student_id, test, grade)\n",
    "    VALUES (2, \"Chemistry\", 95);\n",
    "\"\"\")\n",
    "\n",
    "for row in conn.execute(\"\"\"SELECT * from students\n",
    "                        \"\"\"):\n",
    "    print row\n",
    "    \n",
    "print \"=================\"\n",
    "\n",
    "for row in conn.execute(\"\"\"SELECT * from student_grades\n",
    "                        \"\"\"):\n",
    "    print row\n",
    "    \n",
    "print \"===============\"\n",
    "\n",
    "\n",
    "for row in conn.execute(\"\"\"SELECT * from student_grades, students\n",
    "                        \"\"\"):\n",
    "    print row\n",
    "    \n",
    "print \"===============\"\n",
    "\n",
    "for row in conn.execute(\"\"\"SELECT students.first_name, students.last_name, student_grades.grade from student_grades JOIN students ON\n",
    "students.id = student_grades.student_id\n",
    "                        \"\"\"):\n",
    "    print row\n",
    "    \n",
    "print \"===============\"\n",
    "\n",
    "for row in conn.execute(\"\"\"SELECT students.first_name, students.last_name, student_grades.grade \n",
    "FROM student_grades LEFT OUTER JOIN students ON\n",
    "students.id = student_grades.student_id\n",
    "                        \"\"\"):\n",
    "    print row\n",
    "    \n",
    "conn.commit()\n",
    "conn.close()"
   ]
  }
 ],
 "metadata": {
  "kernelspec": {
   "display_name": "Python 2",
   "language": "python",
   "name": "python2"
  },
  "language_info": {
   "codemirror_mode": {
    "name": "ipython",
    "version": 2
   },
   "file_extension": ".py",
   "mimetype": "text/x-python",
   "name": "python",
   "nbconvert_exporter": "python",
   "pygments_lexer": "ipython2",
   "version": "2.7.12"
  }
 },
 "nbformat": 4,
 "nbformat_minor": 0
}
